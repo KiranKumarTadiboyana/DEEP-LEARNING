{
 "cells": [
  {
   "cell_type": "code",
   "execution_count": 1,
   "id": "6aeae465",
   "metadata": {},
   "outputs": [],
   "source": [
    "import os\n",
    "os.environ[\"OPENAI_API_KEY\"]=\"\""
   ]
  },
  {
   "cell_type": "code",
   "execution_count": 8,
   "id": "6b952643",
   "metadata": {},
   "outputs": [
    {
     "name": "stderr",
     "output_type": "stream",
     "text": [
      "ERROR: pip's dependency resolver does not currently take into account all the packages that are installed. This behaviour is the source of the following dependency conflicts.\n",
      "streamlit 1.30.0 requires packaging<24,>=16.8, but you have packaging 24.1 which is incompatible.\n"
     ]
    }
   ],
   "source": [
    "!pip install langchain -q\n",
    "!pip install langchain_community -q\n",
    "!pip install openai -q"
   ]
  },
  {
   "cell_type": "code",
   "execution_count": 9,
   "id": "6e0c04e0",
   "metadata": {},
   "outputs": [],
   "source": [
    "from langchain.chat_models import ChatOpenAI\n",
    "chat=ChatOpenAI()"
   ]
  },
  {
   "cell_type": "markdown",
   "id": "a98c1034",
   "metadata": {},
   "source": [
    "## Types of prompts\n",
    "### Question Answering "
   ]
  },
  {
   "cell_type": "code",
   "execution_count": 11,
   "id": "cf1073ae",
   "metadata": {},
   "outputs": [
    {
     "name": "stdout",
     "output_type": "stream",
     "text": [
      "There are several types of turbines used in various applications, each with its own unique features and advantages. Here are some common types of turbines:\n",
      "\n",
      "1. Steam Turbines: Steam turbines are used in power plants to convert thermal energy from steam into mechanical energy that drives a generator to produce electricity. They are classified into two main types: impulse turbines and reaction turbines.\n",
      "\n",
      "2. Gas Turbines: Gas turbines, also known as combustion turbines, use hot gases produced by burning fuel to drive a turbine and generate power. They are commonly used in aircraft engines, power plants, and some industrial applications.\n",
      "\n",
      "3. Hydroelectric Turbines: Hydroelectric turbines are used in hydroelectric power plants to convert the kinetic energy of flowing water into mechanical energy. There are various types of hydroelectric turbines, including Pelton, Francis, and Kaplan turbines, each suited for different water flow conditions.\n",
      "\n",
      "4. Wind Turbines: Wind turbines convert the kinetic energy of wind into mechanical energy to generate electricity. There are two main types of wind turbines: horizontal-axis turbines and vertical-axis turbines.\n",
      "\n",
      "5. Steam Turbines: Steam turbines are used in power plants to convert thermal energy from steam into mechanical energy that drives a generator to produce electricity. They are classified into two main types: impulse turbines and reaction turbines.\n",
      "\n",
      "6. Gas Turbines: Gas turbines, also known as combustion turbines, use hot gases produced by burning fuel to drive a turbine and generate power. They are commonly used in aircraft engines, power plants, and some industrial applications.\n",
      "\n",
      "These are just a few examples of the various types of turbines used in different industries and applications. Each type has its own unique characteristics and is selected based on factors such as efficiency, power output, operating conditions, and cost.\n"
     ]
    }
   ],
   "source": [
    "from langchain.schema.messages import HumanMessage,SystemMessage\n",
    "messages=[\n",
    "SystemMessage(content=\"you are mechanical engineer\"),\n",
    "HumanMessage(content=\"explain about types of turbines?\"),\n",
    "]\n",
    "responses=chat.invoke(messages)\n",
    "print(responses.content)"
   ]
  },
  {
   "cell_type": "markdown",
   "id": "f954c221",
   "metadata": {},
   "source": [
    "### Sentiment Analysis"
   ]
  },
  {
   "cell_type": "code",
   "execution_count": 14,
   "id": "bcdcb135",
   "metadata": {},
   "outputs": [
    {
     "name": "stdout",
     "output_type": "stream",
     "text": [
      "Sentiment: Mixed/Neutral\n",
      "\n",
      "The review acknowledges that the movie \"Salaar\" is a hit, indicating a positive sentiment. However, the mention of there being more violent scenes suggests a slightly negative sentiment due to potential discomfort with the level of violence in the film. Overall, the sentiment of the review can be considered mixed or neutral.\n"
     ]
    }
   ],
   "source": [
    "from langchain.schema.messages import HumanMessage,SystemMessage\n",
    "messages=[\n",
    "SystemMessage(content=\"Anaylize the sentiment of this review\"),\n",
    "HumanMessage(content=\"the salaar movie is hit. but it had more violance scences\"),\n",
    "]\n",
    "responses=chat.invoke(messages)\n",
    "print(responses.content)"
   ]
  },
  {
   "cell_type": "markdown",
   "id": "938d9bbe",
   "metadata": {},
   "source": [
    "### Translation"
   ]
  },
  {
   "cell_type": "code",
   "execution_count": 21,
   "id": "d76b53f8",
   "metadata": {},
   "outputs": [
    {
     "name": "stdout",
     "output_type": "stream",
     "text": [
      "Telugu: టూరిస్టులకు చూడడానికి జర్మనీ ఒక ఆకర్షణీయ స్థలం మరియు ఆహారం చాలా రుచిగా ఉంది\n",
      "Hindi: पर्यटकों के लिए जर्मनी एक अच्छा स्थान है और भोजन बहुत स्वादिष्ट है\n",
      "English: Germany is a nice place to visit for tourists and the food is very delicious\n"
     ]
    }
   ],
   "source": [
    "from langchain.schema.messages import HumanMessage,SystemMessage\n",
    "messages=[\n",
    "SystemMessage(content=\"translate the following sentence to telugu, hindi, english\"),\n",
    "HumanMessage(content=\"Germany is a nice place to visit for tourists and the food is very delicious\"),\n",
    "]\n",
    "responses=chat.invoke(messages)\n",
    "print(responses.content)"
   ]
  },
  {
   "cell_type": "markdown",
   "id": "b5d7704d",
   "metadata": {},
   "source": [
    "### Chain of Thought"
   ]
  },
  {
   "cell_type": "code",
   "execution_count": 20,
   "id": "1696e9ba",
   "metadata": {},
   "outputs": [
    {
     "name": "stdout",
     "output_type": "stream",
     "text": [
      "To solve the equation 2x + 3 = 7, follow these steps:\n",
      "\n",
      "1. Subtract 3 from both sides of the equation to isolate the term with x:\n",
      "   2x + 3 - 3 = 7 - 3\n",
      "   2x = 4\n",
      "\n",
      "2. Divide both sides of the equation by 2 to solve for x:\n",
      "   2x / 2 = 4 / 2\n",
      "   x = 2\n",
      "\n",
      "Therefore, the solution to the equation 2x + 3 = 7 is x = 2.\n"
     ]
    }
   ],
   "source": [
    "from langchain.schema.messages import HumanMessage,SystemMessage\n",
    "messages=[\n",
    "SystemMessage(content=\"explain step by step how to solve the equation\"),\n",
    "HumanMessage(content=\"2x+3=7\"),\n",
    "]\n",
    "responses=chat.invoke(messages)\n",
    "print(responses.content)"
   ]
  },
  {
   "cell_type": "code",
   "execution_count": 23,
   "id": "a7c187c6",
   "metadata": {},
   "outputs": [
    {
     "name": "stdout",
     "output_type": "stream",
     "text": [
      "Ingredients:\n",
      "- 2 cups basmati rice\n",
      "- 500g bone-in chicken, cut into pieces\n",
      "- 1 cup yogurt\n",
      "- 2 large onions, thinly sliced\n",
      "- 2 tomatoes, chopped\n",
      "- 4 green chilies, slit\n",
      "- 1/4 cup fresh coriander leaves, chopped\n",
      "- 1/4 cup fresh mint leaves, chopped\n",
      "- 4 tbsp ghee\n",
      "- 4 tbsp vegetable oil\n",
      "- 1 tbsp ginger-garlic paste\n",
      "- 1 tsp turmeric powder\n",
      "- 1 tsp red chili powder\n",
      "- 1 tsp garam masala powder\n",
      "- 1 tsp cumin seeds\n",
      "- 4 cups water\n",
      "- Salt to taste\n",
      "\n",
      "Instructions:\n",
      "1. Wash and soak the basmati rice in water for 30 minutes. Drain and set aside.\n",
      "2. In a large bowl, marinate the chicken pieces with yogurt, ginger-garlic paste, turmeric powder, red chili powder, and salt. Let it marinate for at least 1 hour.\n",
      "3. In a large heavy-bottomed pot, heat ghee and oil. Add the cumin seeds and sliced onions. Fry until the onions turn golden brown.\n",
      "4. Add the marinated chicken pieces and cook until the chicken is partially cooked.\n",
      "5. Add the chopped tomatoes, green chilies, coriander leaves, and mint leaves. Cook for a few minutes until the tomatoes are soft.\n",
      "6. Add the soaked rice to the pot and gently mix everything together.\n",
      "7. Pour in the water, add salt to taste, and bring it to a boil.\n",
      "8. Reduce the heat to low, cover the pot with a tight-fitting lid, and let it cook for about 20-25 minutes or until the rice is fully cooked and the chicken is tender.\n",
      "9. Sprinkle garam masala powder on top and gently mix everything together.\n",
      "10. Serve hot with raita or salan (curry).\n",
      "\n",
      "Enjoy your delicious Dum Biryani with your family!\n"
     ]
    }
   ],
   "source": [
    "from langchain.schema.messages import HumanMessage,SystemMessage\n",
    "messages=[\n",
    "SystemMessage(content=\"you are chef\"),\n",
    "HumanMessage(content=\"Dum biryani for 4 members\"),\n",
    "]\n",
    "responses=chat.invoke(messages)\n",
    "print(responses.content)"
   ]
  },
  {
   "cell_type": "markdown",
   "id": "46fcf112",
   "metadata": {},
   "source": [
    "### Summarization"
   ]
  },
  {
   "cell_type": "code",
   "execution_count": 31,
   "id": "0deb98d2",
   "metadata": {},
   "outputs": [
    {
     "name": "stdout",
     "output_type": "stream",
     "text": [
      "Deep learning is a subset of machine learning that utilizes neural networks with multiple layers to model and extract patterns from complex data. There are several types of deep learning architectures, including convolutional neural networks (CNNs) for image recognition, recurrent neural networks (RNNs) for sequence data, and generative adversarial networks (GANs) for generating new data.\n",
      "\n",
      "Here is an example of a simple feedforward neural network using the TensorFlow library in Python:\n",
      "\n",
      "```python\n",
      "import tensorflow as tf\n",
      "\n",
      "# Define the neural network architecture\n",
      "model = tf.keras.models.Sequential([\n",
      "    tf.keras.layers.Dense(128, input_shape=(784,), activation='relu'),\n",
      "    tf.keras.layers.Dense(64, activation='relu'),\n",
      "    tf.keras.layers.Dense(10, activation='softmax')\n",
      "])\n",
      "\n",
      "# Compile the model\n",
      "model.compile(optimizer='adam', loss='sparse_categorical_crossentropy', metrics=['accuracy'])\n",
      "\n",
      "# Train the model\n",
      "model.fit(X_train, y_train, epochs=10, batch_size=32, validation_data=(X_val, y_val))\n",
      "\n",
      "# Evaluate the model\n",
      "test_loss, test_acc = model.evaluate(X_test, y_test)\n",
      "print(f'Test accuracy: {test_acc}')\n",
      "```\n",
      "\n",
      "In this example, we define a simple feedforward neural network with three layers and train it on a dataset. We use the TensorFlow library to build and train the model, and evaluate its performance on a test set.\n"
     ]
    }
   ],
   "source": [
    "from langchain.schema.messages import HumanMessage,SystemMessage\n",
    "messages=[\n",
    "SystemMessage(content=\"you are a AI engineer\"),\n",
    "HumanMessage(content=\"provide a brief summary about the deeplearning and its types with example and its code\"),\n",
    "]\n",
    "responses=chat.invoke(messages)\n",
    "print(responses.content)"
   ]
  },
  {
   "cell_type": "code",
   "execution_count": 35,
   "id": "ed6dab40",
   "metadata": {},
   "outputs": [
    {
     "name": "stdout",
     "output_type": "stream",
     "text": [
      "Sure! Here is a brief summary of the differences between Artificial Neural Networks (ANN), Bayesian Neural Networks (BNN), Convolutional Neural Networks (CNN), and Recurrent Neural Networks (RNN) in deep learning:\n",
      "\n",
      "1. Artificial Neural Networks (ANN):\n",
      "- ANN is a basic form of deep learning where the neurons are arranged in layers, and each neuron is connected to all neurons in the adjacent layers.\n",
      "- ANN is typically used for tasks such as regression, classification, and pattern recognition.\n",
      "- Example: Predicting housing prices based on features such as location, size, and number of bedrooms.\n",
      "\n",
      "2. Bayesian Neural Networks (BNN):\n",
      "- BNN is a type of neural network that incorporates Bayesian inference techniques to model uncertainty in the network's parameters.\n",
      "- BNN is useful when dealing with limited data or when we want to quantify uncertainty in predictions.\n",
      "- Example: Predicting the probability of a customer clicking on an advertisement based on demographic data.\n",
      "\n",
      "3. Convolutional Neural Networks (CNN):\n",
      "- CNN is designed to efficiently process grid-like data such as images and videos by leveraging spatial hierarchies of features.\n",
      "- CNN uses convolutional layers to extract features from the input data and pooling layers to reduce the spatial dimensions.\n",
      "- CNN is commonly used for image recognition, object detection, and image segmentation tasks.\n",
      "- Example: Identifying objects in an image and classifying them into predefined categories.\n",
      "\n",
      "4. Recurrent Neural Networks (RNN):\n",
      "- RNN is designed to process sequential data by maintaining a state that captures information about previous inputs.\n",
      "- RNN has loops in the network architecture that allow information to persist over time.\n",
      "- RNN is commonly used for tasks such as natural language processing, speech recognition, and time series prediction.\n",
      "- Example: Generating text in the style of a given author based on a sample text.\n",
      "\n",
      "Each type of neural network has its own strengths and weaknesses, and the choice of network architecture depends on the specific task at hand and the characteristics of the data being used.\n"
     ]
    }
   ],
   "source": [
    "from langchain.schema.messages import HumanMessage,SystemMessage\n",
    "messages=[\n",
    "SystemMessage(content=\"you are a AI engineer\"),\n",
    "HumanMessage(content=\"provide a brief summary about difference between ANN, BNN, CNN and RNN in deep learning with example\"),\n",
    "]\n",
    "responses=chat.invoke(messages)\n",
    "print(responses.content)"
   ]
  },
  {
   "cell_type": "code",
   "execution_count": null,
   "id": "9baa36e0",
   "metadata": {},
   "outputs": [],
   "source": []
  }
 ],
 "metadata": {
  "kernelspec": {
   "display_name": "Python 3 (ipykernel)",
   "language": "python",
   "name": "python3"
  },
  "language_info": {
   "codemirror_mode": {
    "name": "ipython",
    "version": 3
   },
   "file_extension": ".py",
   "mimetype": "text/x-python",
   "name": "python",
   "nbconvert_exporter": "python",
   "pygments_lexer": "ipython3",
   "version": "3.11.7"
  }
 },
 "nbformat": 4,
 "nbformat_minor": 5
}
