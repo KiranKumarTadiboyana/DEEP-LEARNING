{
 "cells": [
  {
   "cell_type": "code",
   "execution_count": 1,
   "id": "c8a603e6",
   "metadata": {},
   "outputs": [],
   "source": [
    "import os\n",
    "os.environ[\"OPENAI_API_KEY\"]=\"\""
   ]
  },
  {
   "cell_type": "code",
   "execution_count": 2,
   "id": "04801851",
   "metadata": {},
   "outputs": [],
   "source": [
    "data = \"D:\\\\DSA..V\\\\DATA_STRUCTURE.pdf\""
   ]
  },
  {
   "cell_type": "code",
   "execution_count": 4,
   "id": "bb9c50ea",
   "metadata": {},
   "outputs": [],
   "source": [
    "!pip install llama_index -q\n",
    "import llama_index"
   ]
  },
  {
   "cell_type": "code",
   "execution_count": 5,
   "id": "eb67bbfd",
   "metadata": {},
   "outputs": [],
   "source": [
    "from llama_index.core import SimpleDirectoryReader\n",
    "reader=SimpleDirectoryReader(input_files=[data])"
   ]
  },
  {
   "cell_type": "code",
   "execution_count": 6,
   "id": "cb47890a",
   "metadata": {},
   "outputs": [],
   "source": [
    "pdf_documents = reader.load_data()"
   ]
  },
  {
   "cell_type": "code",
   "execution_count": 7,
   "id": "fc930331",
   "metadata": {},
   "outputs": [],
   "source": [
    "from llama_index.core import VectorStoreIndex"
   ]
  },
  {
   "cell_type": "code",
   "execution_count": 8,
   "id": "2878ce43",
   "metadata": {},
   "outputs": [],
   "source": [
    "index = VectorStoreIndex.from_documents(pdf_documents)"
   ]
  },
  {
   "cell_type": "code",
   "execution_count": 10,
   "id": "3faab76e",
   "metadata": {},
   "outputs": [
    {
     "name": "stdout",
     "output_type": "stream",
     "text": [
      "The types of data structures mentioned in the context are Primitive Data structures and Non-primitive data types.\n"
     ]
    }
   ],
   "source": [
    "query_engine = index.as_query_engine()\n",
    "response = query_engine.query(\"what are the tupes of data structure\")\n",
    "print(response)"
   ]
  },
  {
   "cell_type": "code",
   "execution_count": 12,
   "id": "3ec22e2e",
   "metadata": {},
   "outputs": [
    {
     "name": "stdout",
     "output_type": "stream",
     "text": [
      "The types of primitive data structures are linear data structures and nonlinear data structures. Linear data structures include arrays, linked lists, stacks, and queues. Nonlinear data structures include multidimensional arrays, trees, graphs, tables, and sets.\n"
     ]
    }
   ],
   "source": [
    "query_engine = index.as_query_engine()\n",
    "response = query_engine.query(\"what are the types of primitive data structure\")\n",
    "print(response)"
   ]
  },
  {
   "cell_type": "code",
   "execution_count": 13,
   "id": "1d219445",
   "metadata": {},
   "outputs": [
    {
     "name": "stdout",
     "output_type": "stream",
     "text": [
      "An array is a data structure that stores a collection of elements of the same data type in contiguous memory locations. Each element in the array is accessed by its index or position. For example, consider an array of integers: \n",
      "\n",
      "int numbers[5] = {1, 2, 3, 4, 5};\n",
      "\n",
      "In this array, we have 5 integer elements stored in contiguous memory locations. The index starts from 0, so numbers[0] is 1, numbers[1] is 2, and so on. This allows for efficient access to elements based on their position in the array. Arrays are commonly used for storing and accessing a fixed number of elements of the same data type.\n"
     ]
    }
   ],
   "source": [
    "query_engine = index.as_query_engine()\n",
    "response = query_engine.query(\"explain about array with an example\")\n",
    "print(response)"
   ]
  },
  {
   "cell_type": "code",
   "execution_count": null,
   "id": "5a51bb5f",
   "metadata": {},
   "outputs": [],
   "source": []
  }
 ],
 "metadata": {
  "kernelspec": {
   "display_name": "Python 3 (ipykernel)",
   "language": "python",
   "name": "python3"
  },
  "language_info": {
   "codemirror_mode": {
    "name": "ipython",
    "version": 3
   },
   "file_extension": ".py",
   "mimetype": "text/x-python",
   "name": "python",
   "nbconvert_exporter": "python",
   "pygments_lexer": "ipython3",
   "version": "3.11.7"
  }
 },
 "nbformat": 4,
 "nbformat_minor": 5
}
