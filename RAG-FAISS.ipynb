{
 "cells": [
  {
   "cell_type": "code",
   "execution_count": 4,
   "id": "133b1306-1327-4a93-b0dc-2d31e72642f7",
   "metadata": {},
   "outputs": [
    {
     "name": "stdout",
     "output_type": "stream",
     "text": [
      "Requirement already satisfied: langchain in c:\\users\\vivek\\anaconda\\lib\\site-packages (0.2.16)\n",
      "Requirement already satisfied: PyYAML>=5.3 in c:\\users\\vivek\\anaconda\\lib\\site-packages (from langchain) (6.0.1)\n",
      "Requirement already satisfied: SQLAlchemy<3,>=1.4 in c:\\users\\vivek\\anaconda\\lib\\site-packages (from langchain) (2.0.30)\n",
      "Requirement already satisfied: aiohttp<4.0.0,>=3.8.3 in c:\\users\\vivek\\anaconda\\lib\\site-packages (from langchain) (3.9.5)\n",
      "Requirement already satisfied: langchain-core<0.3.0,>=0.2.38 in c:\\users\\vivek\\anaconda\\lib\\site-packages (from langchain) (0.2.39)\n",
      "Requirement already satisfied: langchain-text-splitters<0.3.0,>=0.2.0 in c:\\users\\vivek\\anaconda\\lib\\site-packages (from langchain) (0.2.4)\n",
      "Requirement already satisfied: langsmith<0.2.0,>=0.1.17 in c:\\users\\vivek\\anaconda\\lib\\site-packages (from langchain) (0.1.120)\n",
      "Requirement already satisfied: numpy<2.0.0,>=1.26.0 in c:\\users\\vivek\\anaconda\\lib\\site-packages (from langchain) (1.26.4)\n",
      "Requirement already satisfied: pydantic<3,>=1 in c:\\users\\vivek\\anaconda\\lib\\site-packages (from langchain) (2.9.1)\n",
      "Requirement already satisfied: requests<3,>=2 in c:\\users\\vivek\\anaconda\\lib\\site-packages (from langchain) (2.32.2)\n",
      "Requirement already satisfied: tenacity!=8.4.0,<9.0.0,>=8.1.0 in c:\\users\\vivek\\anaconda\\lib\\site-packages (from langchain) (8.2.2)\n",
      "Requirement already satisfied: aiosignal>=1.1.2 in c:\\users\\vivek\\anaconda\\lib\\site-packages (from aiohttp<4.0.0,>=3.8.3->langchain) (1.2.0)\n",
      "Requirement already satisfied: attrs>=17.3.0 in c:\\users\\vivek\\anaconda\\lib\\site-packages (from aiohttp<4.0.0,>=3.8.3->langchain) (23.1.0)\n",
      "Requirement already satisfied: frozenlist>=1.1.1 in c:\\users\\vivek\\anaconda\\lib\\site-packages (from aiohttp<4.0.0,>=3.8.3->langchain) (1.4.0)\n",
      "Requirement already satisfied: multidict<7.0,>=4.5 in c:\\users\\vivek\\anaconda\\lib\\site-packages (from aiohttp<4.0.0,>=3.8.3->langchain) (6.0.4)\n",
      "Requirement already satisfied: yarl<2.0,>=1.0 in c:\\users\\vivek\\anaconda\\lib\\site-packages (from aiohttp<4.0.0,>=3.8.3->langchain) (1.9.3)\n",
      "Requirement already satisfied: jsonpatch<2.0,>=1.33 in c:\\users\\vivek\\anaconda\\lib\\site-packages (from langchain-core<0.3.0,>=0.2.38->langchain) (1.33)\n",
      "Requirement already satisfied: packaging<25,>=23.2 in c:\\users\\vivek\\appdata\\roaming\\python\\python312\\site-packages (from langchain-core<0.3.0,>=0.2.38->langchain) (23.2)\n",
      "Requirement already satisfied: typing-extensions>=4.7 in c:\\users\\vivek\\anaconda\\lib\\site-packages (from langchain-core<0.3.0,>=0.2.38->langchain) (4.11.0)\n",
      "Requirement already satisfied: httpx<1,>=0.23.0 in c:\\users\\vivek\\anaconda\\lib\\site-packages (from langsmith<0.2.0,>=0.1.17->langchain) (0.27.2)\n",
      "Requirement already satisfied: orjson<4.0.0,>=3.9.14 in c:\\users\\vivek\\anaconda\\lib\\site-packages (from langsmith<0.2.0,>=0.1.17->langchain) (3.10.7)\n",
      "Requirement already satisfied: annotated-types>=0.6.0 in c:\\users\\vivek\\anaconda\\lib\\site-packages (from pydantic<3,>=1->langchain) (0.6.0)\n",
      "Requirement already satisfied: pydantic-core==2.23.3 in c:\\users\\vivek\\anaconda\\lib\\site-packages (from pydantic<3,>=1->langchain) (2.23.3)\n",
      "Requirement already satisfied: charset-normalizer<4,>=2 in c:\\users\\vivek\\anaconda\\lib\\site-packages (from requests<3,>=2->langchain) (2.0.4)\n",
      "Requirement already satisfied: idna<4,>=2.5 in c:\\users\\vivek\\anaconda\\lib\\site-packages (from requests<3,>=2->langchain) (3.7)\n",
      "Requirement already satisfied: urllib3<3,>=1.21.1 in c:\\users\\vivek\\anaconda\\lib\\site-packages (from requests<3,>=2->langchain) (2.2.2)\n",
      "Requirement already satisfied: certifi>=2017.4.17 in c:\\users\\vivek\\anaconda\\lib\\site-packages (from requests<3,>=2->langchain) (2024.6.2)\n",
      "Requirement already satisfied: greenlet!=0.4.17 in c:\\users\\vivek\\anaconda\\lib\\site-packages (from SQLAlchemy<3,>=1.4->langchain) (3.0.1)\n",
      "Requirement already satisfied: anyio in c:\\users\\vivek\\anaconda\\lib\\site-packages (from httpx<1,>=0.23.0->langsmith<0.2.0,>=0.1.17->langchain) (4.2.0)\n",
      "Requirement already satisfied: httpcore==1.* in c:\\users\\vivek\\anaconda\\lib\\site-packages (from httpx<1,>=0.23.0->langsmith<0.2.0,>=0.1.17->langchain) (1.0.5)\n",
      "Requirement already satisfied: sniffio in c:\\users\\vivek\\anaconda\\lib\\site-packages (from httpx<1,>=0.23.0->langsmith<0.2.0,>=0.1.17->langchain) (1.3.0)\n",
      "Requirement already satisfied: h11<0.15,>=0.13 in c:\\users\\vivek\\anaconda\\lib\\site-packages (from httpcore==1.*->httpx<1,>=0.23.0->langsmith<0.2.0,>=0.1.17->langchain) (0.14.0)\n",
      "Requirement already satisfied: jsonpointer>=1.9 in c:\\users\\vivek\\anaconda\\lib\\site-packages (from jsonpatch<2.0,>=1.33->langchain-core<0.3.0,>=0.2.38->langchain) (2.1)\n"
     ]
    }
   ],
   "source": [
    "!pip install langchain"
   ]
  },
  {
   "cell_type": "code",
   "execution_count": 6,
   "id": "1b457cba-d06e-4439-a3c3-df182af1f67c",
   "metadata": {},
   "outputs": [],
   "source": [
    "import langchain"
   ]
  },
  {
   "cell_type": "code",
   "execution_count": 1,
   "id": "48797957-811b-4803-b757-67a71104ec76",
   "metadata": {},
   "outputs": [],
   "source": [
    "from langchain.document_loaders import PyPDFLoader"
   ]
  },
  {
   "cell_type": "code",
   "execution_count": 2,
   "id": "4b3ad38b-3bd5-4954-a584-5fbff59f3737",
   "metadata": {},
   "outputs": [],
   "source": [
    "Loader=PyPDFLoader(\"C:\\\\Users\\\\Vivek\\\\OneDrive\\\\Pictures\\\\FINAL VIVEk.pdf\")\n",
    "pdfpages=Loader.load_and_split()"
   ]
  },
  {
   "cell_type": "code",
   "execution_count": 3,
   "id": "c5231de5-b8bf-4ac8-b048-8ee8a6114a37",
   "metadata": {},
   "outputs": [],
   "source": [
    "import os\n",
    "os.environ[\"OPENAI_API_KEY\"]=\"\""
   ]
  },
  {
   "cell_type": "code",
   "execution_count": 4,
   "id": "b9772adf-9291-4ea3-8109-b26bf771337b",
   "metadata": {},
   "outputs": [
    {
     "name": "stdout",
     "output_type": "stream",
     "text": [
      "Requirement already satisfied: pypdf in c:\\users\\vivek\\anaconda\\lib\\site-packages (4.3.1)\n",
      "Requirement already satisfied: tiktoken in c:\\users\\vivek\\anaconda\\lib\\site-packages (0.7.0)\n",
      "Requirement already satisfied: faiss-cpu in c:\\users\\vivek\\anaconda\\lib\\site-packages (1.8.0.post1)\n",
      "Requirement already satisfied: regex>=2022.1.18 in c:\\users\\vivek\\anaconda\\lib\\site-packages (from tiktoken) (2023.10.3)\n",
      "Requirement already satisfied: requests>=2.26.0 in c:\\users\\vivek\\anaconda\\lib\\site-packages (from tiktoken) (2.32.2)\n",
      "Requirement already satisfied: numpy<2.0,>=1.0 in c:\\users\\vivek\\anaconda\\lib\\site-packages (from faiss-cpu) (1.26.4)\n",
      "Requirement already satisfied: packaging in c:\\users\\vivek\\appdata\\roaming\\python\\python312\\site-packages (from faiss-cpu) (23.2)\n",
      "Requirement already satisfied: charset-normalizer<4,>=2 in c:\\users\\vivek\\anaconda\\lib\\site-packages (from requests>=2.26.0->tiktoken) (2.0.4)\n",
      "Requirement already satisfied: idna<4,>=2.5 in c:\\users\\vivek\\anaconda\\lib\\site-packages (from requests>=2.26.0->tiktoken) (3.7)\n",
      "Requirement already satisfied: urllib3<3,>=1.21.1 in c:\\users\\vivek\\anaconda\\lib\\site-packages (from requests>=2.26.0->tiktoken) (2.2.2)\n",
      "Requirement already satisfied: certifi>=2017.4.17 in c:\\users\\vivek\\anaconda\\lib\\site-packages (from requests>=2.26.0->tiktoken) (2024.6.2)\n"
     ]
    }
   ],
   "source": [
    "!pip install pypdf tiktoken faiss-cpu"
   ]
  },
  {
   "cell_type": "code",
   "execution_count": 5,
   "id": "860035a5-f68e-4d70-849c-7c33aa0afb1d",
   "metadata": {},
   "outputs": [],
   "source": [
    "from langchain.embeddings import OpenAIEmbeddings\n",
    "from langchain.vectorstores import FAISS"
   ]
  },
  {
   "cell_type": "code",
   "execution_count": 6,
   "id": "20cbfa40-7950-4ea6-8c8a-aabcbb3f855f",
   "metadata": {},
   "outputs": [
    {
     "name": "stderr",
     "output_type": "stream",
     "text": [
      "C:\\Users\\Vivek\\AppData\\Local\\Temp\\ipykernel_25168\\4207238043.py:1: LangChainDeprecationWarning: The class `OpenAIEmbeddings` was deprecated in LangChain 0.0.9 and will be removed in 1.0. An updated version of the class exists in the langchain-openai package and should be used instead. To use it run `pip install -U langchain-openai` and import as `from langchain_openai import OpenAIEmbeddings`.\n",
      "  pdfstore=FAISS.from_documents(pdfpages,embedding=OpenAIEmbeddings())\n"
     ]
    }
   ],
   "source": [
    "pdfstore=FAISS.from_documents(pdfpages,embedding=OpenAIEmbeddings())"
   ]
  },
  {
   "cell_type": "code",
   "execution_count": 7,
   "id": "46ec0a79-4702-4f1e-86eb-206890f89b87",
   "metadata": {},
   "outputs": [],
   "source": [
    "retriever=pdfstore.as_retriever()"
   ]
  },
  {
   "cell_type": "code",
   "execution_count": 9,
   "id": "14538510-9c86-4689-9071-c687b45c79a7",
   "metadata": {},
   "outputs": [
    {
     "name": "stdout",
     "output_type": "stream",
     "text": [
      "CRIME RATE PREDICTION  \n",
      " \n",
      "  \n",
      "DEPARTMENT OF CES,TELANGANA UNIVERSITY  1 \n",
      " 1.INTRODUCTION  \n",
      "               Day by day the crime rate is increasing considerably. Crime cannot be predicted \n",
      "since it is neither systematic nor random. Also the modern technologies and hi -tech \n",
      "methods help criminals in achieving their misdeeds. According to Crime Records Bureau \n",
      "crimes like burglary, arson etc have been decreased while crimes like murder have been \n",
      "increased. Even though we cannot predict who all may be th e victims of crime but can \n",
      "predict the place that has probability for its occurrence. The predicted results cannot be \n",
      "assured of 100% accuracy but the results shows that our application helps in reducing \n",
      "crime rate to a certain extent by providing security  in crime sensitive areas. So for \n",
      "building such a powerful crime analytics tool we have to collect crime records and \n",
      "evaluate it.  \n",
      "                 The main aim of this project is to identify the crimes happening in different \n",
      "areas and prevent any crimes fr om happening in the future. For that, various random forest \n",
      "algorithm clustering techniques like K -Means clustering techniques are employed in \n",
      "order to classify the crimes .\n"
     ]
    }
   ],
   "source": [
    "retrieved_docs=retriever.invoke(\"give me summary of crime rate prediction and analysis\")\n",
    "print(retrieved_docs[1].page_content)"
   ]
  },
  {
   "cell_type": "code",
   "execution_count": 10,
   "id": "bd236766-49ca-4753-98a4-17a5b50f0592",
   "metadata": {},
   "outputs": [],
   "source": [
    "retriever1=pdfstore.as_retriever()\n"
   ]
  },
  {
   "cell_type": "code",
   "execution_count": 11,
   "id": "f83e9456-9e3d-4b6a-ad5a-8f8ac5559678",
   "metadata": {},
   "outputs": [
    {
     "name": "stdout",
     "output_type": "stream",
     "text": [
      "CRIME RATE PREDICTION  \n",
      " \n",
      "  \n",
      "DEPARTMENT OF CES,TELANGANA UNIVERSITY  5 \n",
      " Agile Model Advantages:  \n",
      "1. In Agile methodology the delivery of software is unremitting.  \n",
      "2. The customers are satisfied because after every Sprint working feature of the software \n",
      "is delivered to them.  \n",
      "3. Customers can have a look of the working feature which fulfilled their expectations.  \n",
      "4. If the customers has any feedback or any change in the feature then it can be \n",
      "accommodated in the current release of the product.  \n",
      "5. In Agile methodology the daily interactions are required between the business people \n",
      "and the developers.  \n",
      "6. In this methodology attention is paid to the good design o f the product.  \n",
      "7. Changes in the requirements are accepted even in the later stages of the development.  \n",
      "8. An Agile/Scrum approach can improve organizational synergy by breaking down \n",
      "organizational barriers and developing a spirit of trust and partnership around  \n",
      "organizational goals.\n"
     ]
    }
   ],
   "source": [
    "retrieved_docs1=retriever1.invoke(\"what is sdlc methodology\")\n",
    "print(retrieved_docs1[1].page_content)"
   ]
  },
  {
   "cell_type": "code",
   "execution_count": 12,
   "id": "01e5097e-ad8d-4f37-b70e-c9f4b5de41b2",
   "metadata": {},
   "outputs": [
    {
     "name": "stdout",
     "output_type": "stream",
     "text": [
      "CRIME RATE PREDICTION  \n",
      " \n",
      "  \n",
      "DEPARTMENT OF CES,TELANGANA UNIVERSITY  7 \n",
      " 3.5 Non -Functional Requirements : \n",
      "            Non-Functional Requirements are the constraints or the requirements imposed on \n",
      "the system. They specify the quality attribute of the software. Non -Functional \n",
      "Requirements deal with issues like scalability, maintainability, performance, portability, \n",
      "securit y, reliability, and many more. Non -Functional Requirements address vital issues \n",
      "of quality for software systems.  \n",
      "Portability :  \n",
      "                     Portability determines how a system or its element can be launched within \n",
      "one environment or another. It us ually includes hardware, software, or other usage \n",
      "platform specifications. Put simply, it establishes how well actions performed via one \n",
      "platform are run on another. Also, it prescribes how well system elements may be \n",
      "accessed and may interact from two dif ferent environments.  \n",
      "Reliability:  \n",
      "                  Reliability specifies how likely the system or its element would run without \n",
      "a failure for a given period of time under predefined conditions. Traditionally, this \n",
      "probability is expressed in percentages. For instance, if the system has 85 percent \n",
      "reliabili ty for a month, this means that during this month, under normal usage conditions, \n",
      "there’s an 85 percent chance that the system won’t experience critical failure.  \n",
      "Performance:  \n",
      "                      Performance defines how fast a software system or a partic ular piece of it \n",
      "responds to certain users’ actions under a certain workload. In most cases, this metric \n",
      "explains how long a user must wait before the target operation happens (the page renders, \n",
      "a transaction is processed, etc.) given the overall number of  users at the moment. But it’s\n"
     ]
    }
   ],
   "source": [
    "retrieved_docs=retriever.invoke(\"what are the functional and non-functional requirments\")\n",
    "print(retrieved_docs[0].page_content)"
   ]
  },
  {
   "cell_type": "code",
   "execution_count": 13,
   "id": "3d355662-82ce-461e-b726-f00b3079e1da",
   "metadata": {},
   "outputs": [
    {
     "name": "stdout",
     "output_type": "stream",
     "text": [
      "CRIME RATE PREDICTION  \n",
      " \n",
      "  \n",
      "DEPARTMENT OF CES,TELANGANA UNIVERSITY  61 \n",
      " were individually satisfaction, as shown by successfully unit testing, the combi nation of \n",
      "components is correct and consistent. Integration testing is specifically aimed at exposing \n",
      "the problems that arise from the combination of components .  \n",
      "Functional test  \n",
      " Functional tests provide systematic demonstrations that functions tested are available as \n",
      "specified by the business and technical requirements, system documentation, and user \n",
      "manuals . \n",
      "Valid Input : identified classes of valid input must be accepted.  \n",
      " Invalid Input : identified classes of invalid input must be rejected.  \n",
      "Functions : identified functions must be exercised.  \n",
      "Output : identified classes of application outputs must be exercised.  \n",
      "Systems/Procedures : interfacing systems or procedures must be in voked.  \n",
      "          Organization and preparation of functional tests is focused on requirements, key \n",
      "functions, or special test cases. In addition, systematic coverage pertaining to identify \n",
      "Business process  flows; data fields, predefined processes, and succ essive processes must \n",
      "be considered for testing. Before functional testing is complete, additional tests are \n",
      "identified and the effective value of current tests is determined.  \n",
      " System testing  \n",
      " System testing ensures that the entire integrated software syst em meets requirements. It \n",
      "tests a configuration to ensure known and predictable results. An example of system \n",
      "testing is the configuration oriented system integration test. System testing is based on \n",
      "process descriptions and flows, emphasizing pre -driven p rocess links and integration \n",
      "points.\n"
     ]
    }
   ],
   "source": [
    "retrieved_docs=retriever.invoke(\"what are the functional and non-functional requirments\")\n",
    "print(retrieved_docs[1].page_content)"
   ]
  },
  {
   "cell_type": "code",
   "execution_count": 14,
   "id": "89fc7cad-3176-448b-8daf-6feead5eb2d8",
   "metadata": {},
   "outputs": [],
   "source": [
    "from langchain.chat_models import ChatOpenAI\n",
    "from langchain.retrievers.multi_query import MultiQueryRetriever"
   ]
  },
  {
   "cell_type": "code",
   "execution_count": 16,
   "id": "55e1ff82-2760-4bd7-9dc9-1149a7e47f55",
   "metadata": {},
   "outputs": [
    {
     "name": "stderr",
     "output_type": "stream",
     "text": [
      "C:\\Users\\Vivek\\AppData\\Local\\Temp\\ipykernel_25168\\2590131633.py:6: LangChainDeprecationWarning: The method `BaseRetriever.get_relevant_documents` was deprecated in langchain-core 0.1.46 and will be removed in 1.0. Use invoke instead.\n",
      "  unique_doc=retriever_from_llm.get_relevant_documents(query=question)\n"
     ]
    },
    {
     "name": "stdout",
     "output_type": "stream",
     "text": [
      "number of unique documets: 7\n"
     ]
    }
   ],
   "source": [
    "question=\"what is technology description\"\n",
    "llm=ChatOpenAI(temperature=0)\n",
    "retriever_from_llm=MultiQueryRetriever.from_llm(\n",
    "    retriever=pdfstore.as_retriever(),llm=llm\n",
    ")\n",
    "unique_doc=retriever_from_llm.get_relevant_documents(query=question)\n",
    "print(\"number of unique documets:\",len(unique_doc))"
   ]
  },
  {
   "cell_type": "code",
   "execution_count": 17,
   "id": "9e132bcd-f953-4cd9-a07b-522a1167c8c6",
   "metadata": {},
   "outputs": [
    {
     "name": "stdout",
     "output_type": "stream",
     "text": [
      "number of unique documets: 7\n"
     ]
    }
   ],
   "source": [
    "question=\"what is technology description\"\n",
    "llm=ChatOpenAI(temperature=1)\n",
    "retriever_from_llm=MultiQueryRetriever.from_llm(\n",
    "    retriever=pdfstore.as_retriever(),llm=llm\n",
    ")\n",
    "unique_doc=retriever_from_llm.get_relevant_documents(query=question)\n",
    "print(\"number of unique documets:\",len(unique_doc))"
   ]
  },
  {
   "cell_type": "code",
   "execution_count": 18,
   "id": "8059024f-3883-4487-a74d-b61545a73829",
   "metadata": {},
   "outputs": [
    {
     "data": {
      "text/plain": [
       "[Document(metadata={'source': 'C:\\\\Users\\\\Vivek\\\\OneDrive\\\\Pictures\\\\FINAL VIVEk.pdf', 'page': 4}, page_content='CONTENTS     Page -No                                                 \\n1      1.Introduction                  01 \\n        2. System Analysis                  02 \\n              2.1 Existing System       \\n              2.2Proposed System      \\n        3. System Requirements Specifications         03 \\n               3.1 SDLC Methodology  \\n               3.2 Software Requirements  \\n               3.3 Hardware Requirements  \\n               3.4 Functional  Requir ements   \\n               3.5 Non -Functional Requirements                                                                                     \\n        4. System Design        09 \\n              4.1 UML Diagrams  \\n              4.2 Use case Diagram  \\n              4.3 Sequence Diagram  \\n              4.4 Class Diagram  \\n        5.Technology Description                                                          15                     \\n        6.Coding                                                                                     32                         \\n        7. Testing         60        \\n        8. Output Screens                                                                       64                         \\n        9.conclusion                                                                               72                    \\n       10. Bibliography                                        73'),\n",
       " Document(metadata={'source': 'C:\\\\Users\\\\Vivek\\\\OneDrive\\\\Pictures\\\\FINAL VIVEk.pdf', 'page': 21}, page_content='CRIME RATE PREDICTION  \\n \\n  \\nDEPARTMENT OF CES,TELANGANA UNIVERSITY  17 \\n  What can Python do?  \\n• Python can be used on a server to create web applications.  \\n• Python can be used alongside software to create workflows.  \\n• Python can connect to database systems. It can also read and modify files.  \\n • Python can be used to handle big data and perform complex mathematics.  \\n • Python can be used for rapid prototyping , or for production -ready software \\ndevelopment.  \\n What is Machine Learning:  -  \\n              Before we take a look at the details of various machine learning methods, let\\'s \\nstart by looking at what machine learning is, and what it isn\\'t. Machine learning is  often \\ncategorized as a subfield of artificial intelligence, but I find that categorization can often \\nbe misleading at first brush. The study of machine learning certainly arose from research \\nin this context, but in the  data science application of machine learning methods, it\\'s more \\nhelpful to think of machine learning as a means of building models of data. \\nFundamentally, machine learning involves building mathematical models to help \\nunderstand data. \"Learning\" enters the fray when we give these models tuna ble \\nparameters that can be adapted to observed data; in this way the program can be \\nconsidered to be \"learning\" from the data. Once these models have been fit to previously \\nseen data, they can be used to predict and understand aspects of newly observed dat a. I\\'ll \\nleave to the reader the more philosophical digression regarding the extent to which this \\ntype of mathematical, model -based \"learning\" is similar to the \"learning\" exhibited by the \\nhuman brain. these tools effectively, and so we will start with some  broad categorizations \\nof the types of approaches we\\'ll discuss here.'),\n",
       " Document(metadata={'source': 'C:\\\\Users\\\\Vivek\\\\OneDrive\\\\Pictures\\\\FINAL VIVEk.pdf', 'page': 6}, page_content='CRIME RATE PREDICTION  \\n \\n  \\nDEPARTMENT OF CES,TELANGANA UNIVERSITY  2 \\n 2. SYSTEM ANALYSIS  \\n2.1 EXISTING SYSTEM  \\n           In an existing system, historical crime data can be collected from various sources \\nsuch as police records, crime reports, and surveys. This data can then be pre -processed \\nand analyzed using statistical and machine learning techniques to identify patterns and \\ntrends in crime rates. Factors such as time of day, day of the week, location, and type of \\ncrime can be analyzed to identify hotspots and high -risk areas. This information can be \\nused to allocate police resources more efficiently, identify areas that require more \\nsurveillance and control, and take preventive measures to reduce crime rates.  \\n2.2 PROPOSED SYSTEM  \\n            In a proposed system, real -time crime data can be collected using various sources \\nsuch as social media, CCTV cameras, and sensors. This data can then be pre -processed \\nand analyzed using advanced machine learning algorithms  identify patterns and trends \\nin crime rates. These algorithms can be used to detect anomalies and predict crime events \\nin real -time. This information can be used to alert la w enforcement agencies and take \\nimmediate action to prevent crimes or apprehend perpetrators.'),\n",
       " Document(metadata={'source': 'C:\\\\Users\\\\Vivek\\\\OneDrive\\\\Pictures\\\\FINAL VIVEk.pdf', 'page': 13}, page_content='CRIME RATE PREDICTION  \\n \\n  \\nDEPARTMENT OF CES,TELANGANA UNIVERSITY  9 \\n 4. System Design  \\n4.1 UML Diagrams  \\n               UML stands for Unified Modeling Language. UML is a standardized general -\\npurpose modeling language in the field of object -oriented software engineering. The \\nstandard is managed, and was created by, the Object Management Group.  \\n                    The goal is for UML to become a common language for creating models \\nof object oriented computer software. In its current form UML is comprised of two major \\ncomponents: a Meta -model and a notation. In the future, some form of method or p rocess \\nmay also be added to; or associated with, UML.  \\n                   The Unified Modeling Language is a standard language for specifying, \\nVisualization, Constructing and documenting the artifacts of software system, as well as \\nfor business modeling an d other non -software systems.  \\n             The UML represents a collection of best engineering practices that have proven \\nsuccessful in the modeling of large and complex systems.  \\n                The UML is a very important part of developing objects -orien ted software and \\nthe software development process. The UML uses mostly graphical notations to express \\nthe design of software  projects.  \\nUsages of UML Diagrams  \\nThe diagram can be used in many different fields including software engineering or \\nbusiness proce sses to strengthen efficiency .'),\n",
       " Document(metadata={'source': 'C:\\\\Users\\\\Vivek\\\\OneDrive\\\\Pictures\\\\FINAL VIVEk.pdf', 'page': 11}, page_content='CRIME RATE PREDICTION  \\n \\n  \\nDEPARTMENT OF CES,TELANGANA UNIVERSITY  7 \\n 3.5 Non -Functional Requirements : \\n            Non-Functional Requirements are the constraints or the requirements imposed on \\nthe system. They specify the quality attribute of the software. Non -Functional \\nRequirements deal with issues like scalability, maintainability, performance, portability, \\nsecurit y, reliability, and many more. Non -Functional Requirements address vital issues \\nof quality for software systems.  \\nPortability :  \\n                     Portability determines how a system or its element can be launched within \\none environment or another. It us ually includes hardware, software, or other usage \\nplatform specifications. Put simply, it establishes how well actions performed via one \\nplatform are run on another. Also, it prescribes how well system elements may be \\naccessed and may interact from two dif ferent environments.  \\nReliability:  \\n                  Reliability specifies how likely the system or its element would run without \\na failure for a given period of time under predefined conditions. Traditionally, this \\nprobability is expressed in percentages. For instance, if the system has 85 percent \\nreliabili ty for a month, this means that during this month, under normal usage conditions, \\nthere’s an 85 percent chance that the system won’t experience critical failure.  \\nPerformance:  \\n                      Performance defines how fast a software system or a partic ular piece of it \\nresponds to certain users’ actions under a certain workload. In most cases, this metric \\nexplains how long a user must wait before the target operation happens (the page renders, \\na transaction is processed, etc.) given the overall number of  users at the moment. But it’s'),\n",
       " Document(metadata={'source': 'C:\\\\Users\\\\Vivek\\\\OneDrive\\\\Pictures\\\\FINAL VIVEk.pdf', 'page': 7}, page_content='CRIME RATE PREDICTION  \\n \\n  \\nDEPARTMENT OF CES,TELANGANA UNIVERSITY  3 \\n  \\n3.SYSTE M REQUIREMENTS  SPECIFICATION  \\n3.1 SDLC METHODLOGY  \\n \\nAgile model :  \\n            The Agile model is an iterative and incremental approach to software \\ndevelopment and project management. It emphasizes flexibility, collaboration, and \\ncontinuous improvement. The Agile model is based on the Agile Manifesto, which \\noutlines a set of values and principles for developing software more effectively.'),\n",
       " Document(metadata={'source': 'C:\\\\Users\\\\Vivek\\\\OneDrive\\\\Pictures\\\\FINAL VIVEk.pdf', 'page': 9}, page_content='CRIME RATE PREDICTION  \\n \\n  \\nDEPARTMENT OF CES,TELANGANA UNIVERSITY  5 \\n Agile Model Advantages:  \\n1. In Agile methodology the delivery of software is unremitting.  \\n2. The customers are satisfied because after every Sprint working feature of the software \\nis delivered to them.  \\n3. Customers can have a look of the working feature which fulfilled their expectations.  \\n4. If the customers has any feedback or any change in the feature then it can be \\naccommodated in the current release of the product.  \\n5. In Agile methodology the daily interactions are required between the business people \\nand the developers.  \\n6. In this methodology attention is paid to the good design o f the product.  \\n7. Changes in the requirements are accepted even in the later stages of the development.  \\n8. An Agile/Scrum approach can improve organizational synergy by breaking down \\norganizational barriers and developing a spirit of trust and partnership around  \\norganizational goals.')]"
      ]
     },
     "execution_count": 18,
     "metadata": {},
     "output_type": "execute_result"
    }
   ],
   "source": [
    "unique_doc"
   ]
  },
  {
   "cell_type": "code",
   "execution_count": null,
   "id": "195b949c-9472-46e7-b47a-7bec7e33a346",
   "metadata": {},
   "outputs": [],
   "source": []
  }
 ],
 "metadata": {
  "kernelspec": {
   "display_name": "Python 3 (ipykernel)",
   "language": "python",
   "name": "python3"
  },
  "language_info": {
   "codemirror_mode": {
    "name": "ipython",
    "version": 3
   },
   "file_extension": ".py",
   "mimetype": "text/x-python",
   "name": "python",
   "nbconvert_exporter": "python",
   "pygments_lexer": "ipython3",
   "version": "3.12.4"
  }
 },
 "nbformat": 4,
 "nbformat_minor": 5
}
