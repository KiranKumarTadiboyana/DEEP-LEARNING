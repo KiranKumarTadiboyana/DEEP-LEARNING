{
 "cells": [
  {
   "cell_type": "code",
   "execution_count": 13,
   "id": "d496407e-7ea2-48a0-a218-eda20f3bd1a2",
   "metadata": {},
   "outputs": [
    {
     "name": "stdout",
     "output_type": "stream",
     "text": [
      "Requirement already satisfied: langchain in d:\\anaconda\\lib\\site-packages (0.3.0)\n",
      "Requirement already satisfied: langchain-experimental in d:\\anaconda\\lib\\site-packages (0.3.0)\n",
      "Requirement already satisfied: openai in d:\\anaconda\\lib\\site-packages (1.45.0)\n",
      "Requirement already satisfied: pymysql in d:\\anaconda\\lib\\site-packages (1.1.1)\n",
      "Requirement already satisfied: PyYAML>=5.3 in d:\\anaconda\\lib\\site-packages (from langchain) (6.0.1)\n",
      "Requirement already satisfied: SQLAlchemy<3,>=1.4 in d:\\anaconda\\lib\\site-packages (from langchain) (2.0.30)\n",
      "Requirement already satisfied: aiohttp<4.0.0,>=3.8.3 in d:\\anaconda\\lib\\site-packages (from langchain) (3.9.5)\n",
      "Requirement already satisfied: langchain-core<0.4.0,>=0.3.0 in d:\\anaconda\\lib\\site-packages (from langchain) (0.3.0)\n",
      "Requirement already satisfied: langchain-text-splitters<0.4.0,>=0.3.0 in d:\\anaconda\\lib\\site-packages (from langchain) (0.3.0)\n",
      "Requirement already satisfied: langsmith<0.2.0,>=0.1.17 in d:\\anaconda\\lib\\site-packages (from langchain) (0.1.120)\n",
      "Requirement already satisfied: numpy<2.0.0,>=1.26.0 in d:\\anaconda\\lib\\site-packages (from langchain) (1.26.4)\n",
      "Requirement already satisfied: pydantic<3.0.0,>=2.7.4 in d:\\anaconda\\lib\\site-packages (from langchain) (2.9.1)\n",
      "Requirement already satisfied: requests<3,>=2 in d:\\anaconda\\lib\\site-packages (from langchain) (2.32.2)\n",
      "Requirement already satisfied: tenacity!=8.4.0,<9.0.0,>=8.1.0 in d:\\anaconda\\lib\\site-packages (from langchain) (8.2.2)\n",
      "Requirement already satisfied: langchain-community<0.4.0,>=0.3.0 in d:\\anaconda\\lib\\site-packages (from langchain-experimental) (0.3.0)\n",
      "Requirement already satisfied: anyio<5,>=3.5.0 in d:\\anaconda\\lib\\site-packages (from openai) (4.2.0)\n",
      "Requirement already satisfied: distro<2,>=1.7.0 in d:\\anaconda\\lib\\site-packages (from openai) (1.9.0)\n",
      "Requirement already satisfied: httpx<1,>=0.23.0 in d:\\anaconda\\lib\\site-packages (from openai) (0.26.0)\n",
      "Requirement already satisfied: jiter<1,>=0.4.0 in d:\\anaconda\\lib\\site-packages (from openai) (0.5.0)\n",
      "Requirement already satisfied: sniffio in d:\\anaconda\\lib\\site-packages (from openai) (1.3.0)\n",
      "Requirement already satisfied: tqdm>4 in d:\\anaconda\\lib\\site-packages (from openai) (4.66.4)\n",
      "Requirement already satisfied: typing-extensions<5,>=4.11 in d:\\anaconda\\lib\\site-packages (from openai) (4.11.0)\n",
      "Requirement already satisfied: aiosignal>=1.1.2 in d:\\anaconda\\lib\\site-packages (from aiohttp<4.0.0,>=3.8.3->langchain) (1.2.0)\n",
      "Requirement already satisfied: attrs>=17.3.0 in d:\\anaconda\\lib\\site-packages (from aiohttp<4.0.0,>=3.8.3->langchain) (23.1.0)\n",
      "Requirement already satisfied: frozenlist>=1.1.1 in d:\\anaconda\\lib\\site-packages (from aiohttp<4.0.0,>=3.8.3->langchain) (1.4.0)\n",
      "Requirement already satisfied: multidict<7.0,>=4.5 in d:\\anaconda\\lib\\site-packages (from aiohttp<4.0.0,>=3.8.3->langchain) (6.0.4)\n",
      "Requirement already satisfied: yarl<2.0,>=1.0 in d:\\anaconda\\lib\\site-packages (from aiohttp<4.0.0,>=3.8.3->langchain) (1.9.3)\n",
      "Requirement already satisfied: idna>=2.8 in d:\\anaconda\\lib\\site-packages (from anyio<5,>=3.5.0->openai) (3.7)\n",
      "Requirement already satisfied: certifi in d:\\anaconda\\lib\\site-packages (from httpx<1,>=0.23.0->openai) (2024.7.4)\n",
      "Requirement already satisfied: httpcore==1.* in d:\\anaconda\\lib\\site-packages (from httpx<1,>=0.23.0->openai) (1.0.2)\n",
      "Requirement already satisfied: h11<0.15,>=0.13 in d:\\anaconda\\lib\\site-packages (from httpcore==1.*->httpx<1,>=0.23.0->openai) (0.14.0)\n",
      "Requirement already satisfied: dataclasses-json<0.7,>=0.5.7 in d:\\anaconda\\lib\\site-packages (from langchain-community<0.4.0,>=0.3.0->langchain-experimental) (0.6.7)\n",
      "Requirement already satisfied: pydantic-settings<3.0.0,>=2.4.0 in d:\\anaconda\\lib\\site-packages (from langchain-community<0.4.0,>=0.3.0->langchain-experimental) (2.5.2)\n",
      "Requirement already satisfied: jsonpatch<2.0,>=1.33 in d:\\anaconda\\lib\\site-packages (from langchain-core<0.4.0,>=0.3.0->langchain) (1.33)\n",
      "Requirement already satisfied: packaging<25,>=23.2 in d:\\anaconda\\lib\\site-packages (from langchain-core<0.4.0,>=0.3.0->langchain) (23.2)\n",
      "Requirement already satisfied: orjson<4.0.0,>=3.9.14 in d:\\anaconda\\lib\\site-packages (from langsmith<0.2.0,>=0.1.17->langchain) (3.10.7)\n",
      "Requirement already satisfied: annotated-types>=0.6.0 in d:\\anaconda\\lib\\site-packages (from pydantic<3.0.0,>=2.7.4->langchain) (0.6.0)\n",
      "Requirement already satisfied: pydantic-core==2.23.3 in d:\\anaconda\\lib\\site-packages (from pydantic<3.0.0,>=2.7.4->langchain) (2.23.3)\n",
      "Requirement already satisfied: charset-normalizer<4,>=2 in d:\\anaconda\\lib\\site-packages (from requests<3,>=2->langchain) (2.0.4)\n",
      "Requirement already satisfied: urllib3<3,>=1.21.1 in d:\\anaconda\\lib\\site-packages (from requests<3,>=2->langchain) (2.2.2)\n",
      "Requirement already satisfied: greenlet!=0.4.17 in d:\\anaconda\\lib\\site-packages (from SQLAlchemy<3,>=1.4->langchain) (3.0.1)\n",
      "Requirement already satisfied: colorama in d:\\anaconda\\lib\\site-packages (from tqdm>4->openai) (0.4.6)\n",
      "Requirement already satisfied: marshmallow<4.0.0,>=3.18.0 in d:\\anaconda\\lib\\site-packages (from dataclasses-json<0.7,>=0.5.7->langchain-community<0.4.0,>=0.3.0->langchain-experimental) (3.22.0)\n",
      "Requirement already satisfied: typing-inspect<1,>=0.4.0 in d:\\anaconda\\lib\\site-packages (from dataclasses-json<0.7,>=0.5.7->langchain-community<0.4.0,>=0.3.0->langchain-experimental) (0.9.0)\n",
      "Requirement already satisfied: jsonpointer>=1.9 in d:\\anaconda\\lib\\site-packages (from jsonpatch<2.0,>=1.33->langchain-core<0.4.0,>=0.3.0->langchain) (2.1)\n",
      "Requirement already satisfied: python-dotenv>=0.21.0 in d:\\anaconda\\lib\\site-packages (from pydantic-settings<3.0.0,>=2.4.0->langchain-community<0.4.0,>=0.3.0->langchain-experimental) (0.21.0)\n",
      "Requirement already satisfied: mypy-extensions>=0.3.0 in d:\\anaconda\\lib\\site-packages (from typing-inspect<1,>=0.4.0->dataclasses-json<0.7,>=0.5.7->langchain-community<0.4.0,>=0.3.0->langchain-experimental) (1.0.0)\n",
      "Note: you may need to restart the kernel to use updated packages.\n"
     ]
    }
   ],
   "source": [
    "pip install langchain langchain-experimental openai pymysql "
   ]
  },
  {
   "cell_type": "raw",
   "id": "287d8f3f-9597-4cc4-b676-abcb0b0bd0bc",
   "metadata": {},
   "source": [
    "import necessary files"
   ]
  },
  {
   "cell_type": "code",
   "execution_count": 17,
   "id": "9a56f273-00cc-42ce-a14e-ec5205d9cd4a",
   "metadata": {},
   "outputs": [],
   "source": [
    "from langchain.utilities  import SQLDatabase\n",
    "from langchain.llms import OpenAI\n",
    "from langchain_experimental.sql import SQLDatabaseChain\n",
    "from langchain.prompts import PromptTemplate\n",
    "from langchain.prompts.chat import HumanMessagePromptTemplate\n",
    "from langchain.chat_models  import ChatOpenAI\n",
    "from langchain.schema import HumanMessage,SystemMessage"
   ]
  },
  {
   "cell_type": "code",
   "execution_count": 19,
   "id": "482ef485-7ecc-4394-8018-6fab3d92f4f2",
   "metadata": {},
   "outputs": [
    {
     "name": "stdout",
     "output_type": "stream",
     "text": [
      "Requirement already satisfied: langchain-openai in d:\\anaconda\\lib\\site-packages (0.2.0)\n",
      "Requirement already satisfied: langchain-core<0.4,>=0.3 in d:\\anaconda\\lib\\site-packages (from langchain-openai) (0.3.0)\n",
      "Requirement already satisfied: openai<2.0.0,>=1.40.0 in d:\\anaconda\\lib\\site-packages (from langchain-openai) (1.45.0)\n",
      "Requirement already satisfied: tiktoken<1,>=0.7 in d:\\anaconda\\lib\\site-packages (from langchain-openai) (0.7.0)\n",
      "Requirement already satisfied: PyYAML>=5.3 in d:\\anaconda\\lib\\site-packages (from langchain-core<0.4,>=0.3->langchain-openai) (6.0.1)\n",
      "Requirement already satisfied: jsonpatch<2.0,>=1.33 in d:\\anaconda\\lib\\site-packages (from langchain-core<0.4,>=0.3->langchain-openai) (1.33)\n",
      "Requirement already satisfied: langsmith<0.2.0,>=0.1.117 in d:\\anaconda\\lib\\site-packages (from langchain-core<0.4,>=0.3->langchain-openai) (0.1.120)\n",
      "Requirement already satisfied: packaging<25,>=23.2 in d:\\anaconda\\lib\\site-packages (from langchain-core<0.4,>=0.3->langchain-openai) (23.2)\n",
      "Requirement already satisfied: pydantic<3.0.0,>=2.7.4 in d:\\anaconda\\lib\\site-packages (from langchain-core<0.4,>=0.3->langchain-openai) (2.9.1)\n",
      "Requirement already satisfied: tenacity!=8.4.0,<9.0.0,>=8.1.0 in d:\\anaconda\\lib\\site-packages (from langchain-core<0.4,>=0.3->langchain-openai) (8.2.2)\n",
      "Requirement already satisfied: typing-extensions>=4.7 in d:\\anaconda\\lib\\site-packages (from langchain-core<0.4,>=0.3->langchain-openai) (4.11.0)\n",
      "Requirement already satisfied: anyio<5,>=3.5.0 in d:\\anaconda\\lib\\site-packages (from openai<2.0.0,>=1.40.0->langchain-openai) (4.2.0)\n",
      "Requirement already satisfied: distro<2,>=1.7.0 in d:\\anaconda\\lib\\site-packages (from openai<2.0.0,>=1.40.0->langchain-openai) (1.9.0)\n",
      "Requirement already satisfied: httpx<1,>=0.23.0 in d:\\anaconda\\lib\\site-packages (from openai<2.0.0,>=1.40.0->langchain-openai) (0.26.0)\n",
      "Requirement already satisfied: jiter<1,>=0.4.0 in d:\\anaconda\\lib\\site-packages (from openai<2.0.0,>=1.40.0->langchain-openai) (0.5.0)\n",
      "Requirement already satisfied: sniffio in d:\\anaconda\\lib\\site-packages (from openai<2.0.0,>=1.40.0->langchain-openai) (1.3.0)\n",
      "Requirement already satisfied: tqdm>4 in d:\\anaconda\\lib\\site-packages (from openai<2.0.0,>=1.40.0->langchain-openai) (4.66.4)\n",
      "Requirement already satisfied: regex>=2022.1.18 in d:\\anaconda\\lib\\site-packages (from tiktoken<1,>=0.7->langchain-openai) (2023.10.3)\n",
      "Requirement already satisfied: requests>=2.26.0 in d:\\anaconda\\lib\\site-packages (from tiktoken<1,>=0.7->langchain-openai) (2.32.2)\n",
      "Requirement already satisfied: idna>=2.8 in d:\\anaconda\\lib\\site-packages (from anyio<5,>=3.5.0->openai<2.0.0,>=1.40.0->langchain-openai) (3.7)\n",
      "Requirement already satisfied: certifi in d:\\anaconda\\lib\\site-packages (from httpx<1,>=0.23.0->openai<2.0.0,>=1.40.0->langchain-openai) (2024.7.4)\n",
      "Requirement already satisfied: httpcore==1.* in d:\\anaconda\\lib\\site-packages (from httpx<1,>=0.23.0->openai<2.0.0,>=1.40.0->langchain-openai) (1.0.2)\n",
      "Requirement already satisfied: h11<0.15,>=0.13 in d:\\anaconda\\lib\\site-packages (from httpcore==1.*->httpx<1,>=0.23.0->openai<2.0.0,>=1.40.0->langchain-openai) (0.14.0)\n",
      "Requirement already satisfied: jsonpointer>=1.9 in d:\\anaconda\\lib\\site-packages (from jsonpatch<2.0,>=1.33->langchain-core<0.4,>=0.3->langchain-openai) (2.1)\n",
      "Requirement already satisfied: orjson<4.0.0,>=3.9.14 in d:\\anaconda\\lib\\site-packages (from langsmith<0.2.0,>=0.1.117->langchain-core<0.4,>=0.3->langchain-openai) (3.10.7)\n",
      "Requirement already satisfied: annotated-types>=0.6.0 in d:\\anaconda\\lib\\site-packages (from pydantic<3.0.0,>=2.7.4->langchain-core<0.4,>=0.3->langchain-openai) (0.6.0)\n",
      "Requirement already satisfied: pydantic-core==2.23.3 in d:\\anaconda\\lib\\site-packages (from pydantic<3.0.0,>=2.7.4->langchain-core<0.4,>=0.3->langchain-openai) (2.23.3)\n",
      "Requirement already satisfied: charset-normalizer<4,>=2 in d:\\anaconda\\lib\\site-packages (from requests>=2.26.0->tiktoken<1,>=0.7->langchain-openai) (2.0.4)\n",
      "Requirement already satisfied: urllib3<3,>=1.21.1 in d:\\anaconda\\lib\\site-packages (from requests>=2.26.0->tiktoken<1,>=0.7->langchain-openai) (2.2.2)\n",
      "Requirement already satisfied: colorama in d:\\anaconda\\lib\\site-packages (from tqdm>4->openai<2.0.0,>=1.40.0->langchain-openai) (0.4.6)\n",
      "Note: you may need to restart the kernel to use updated packages.\n"
     ]
    }
   ],
   "source": [
    "pip install -U langchain-openai\n"
   ]
  },
  {
   "cell_type": "code",
   "execution_count": 21,
   "id": "12e520be-4390-45fa-8238-5ca1078c5505",
   "metadata": {},
   "outputs": [],
   "source": [
    "from langchain_openai import ChatOpenAI\n"
   ]
  },
  {
   "cell_type": "code",
   "execution_count": 23,
   "id": "472fa9c8-5383-4202-baa5-5ba2881c6d3e",
   "metadata": {},
   "outputs": [],
   "source": [
    "OPENAI_API_KEY=\"\"\n",
    "llm=ChatOpenAI(temperature=0,openai_api_key=OPENAI_API_KEY)\n"
   ]
  },
  {
   "cell_type": "code",
   "execution_count": 35,
   "id": "9765b008-1d0f-481d-bb28-b6aa143c66ea",
   "metadata": {},
   "outputs": [],
   "source": [
    "from urllib.parse import quote_plus\n",
    "host='localhost'\n",
    "port='3306'\n",
    "username='root'\n",
    "password=quote_plus('Donald$&Trump()')\n",
    "database_schema='telugumovies'\n"
   ]
  },
  {
   "cell_type": "code",
   "execution_count": 39,
   "id": "87283d0b-c9ed-41f3-8295-0dfc88ac045b",
   "metadata": {},
   "outputs": [],
   "source": [
    "mysql_uri= f\"mysql+pymysql://{username}:{password}@{host}:{port}/{database_schema}\"\n",
    "db=SQLDatabase.from_uri(mysql_uri,include_tables=['telugumovies_dataset'],sample_rows_in_table_info=2)\n",
    "db_chain=SQLDatabaseChain.from_llm(llm,db,verbose=True)"
   ]
  },
  {
   "cell_type": "code",
   "execution_count": 45,
   "id": "aa51e85b-acbc-4d7c-9718-1c5c1a726f50",
   "metadata": {},
   "outputs": [
    {
     "name": "stderr",
     "output_type": "stream",
     "text": [
      "C:\\Users\\Siva Ram\\AppData\\Local\\Temp\\ipykernel_108\\3885288102.py:2: LangChainDeprecationWarning: The method `Chain.__call__` was deprecated in langchain 0.1.0 and will be removed in 1.0. Use invoke instead.\n",
      "  db_context=db_chain(query)\n",
      "Error in StdOutCallbackHandler.on_chain_start callback: AttributeError(\"'NoneType' object has no attribute 'get'\")\n"
     ]
    },
    {
     "name": "stdout",
     "output_type": "stream",
     "text": [
      "how many movies are there?\n",
      "SQLQuery:\u001b[32;1m\u001b[1;3mSELECT COUNT(`Movie`) AS TotalMovies FROM telugumovies_dataset;\u001b[0m\n",
      "SQLResult: \u001b[33;1m\u001b[1;3m[(1350,)]\u001b[0m\n",
      "Answer:\u001b[32;1m\u001b[1;3mThere are 2 movies in the dataset.\u001b[0m\n",
      "\u001b[1m> Finished chain.\u001b[0m\n"
     ]
    },
    {
     "name": "stderr",
     "output_type": "stream",
     "text": [
      "C:\\Users\\Siva Ram\\AppData\\Local\\Temp\\ipykernel_108\\3885288102.py:46: LangChainDeprecationWarning: The method `BaseChatModel.__call__` was deprecated in langchain-core 0.1.7 and will be removed in 1.0. Use invoke instead.\n",
      "  response=llm(messages).content\n"
     ]
    },
    {
     "data": {
      "text/plain": [
       "'There are 2 movies in the dataset.'"
      ]
     },
     "execution_count": 45,
     "metadata": {},
     "output_type": "execute_result"
    }
   ],
   "source": [
    "def retrieve_from_db(query:str)-> str:\n",
    "    db_context=db_chain(query)\n",
    "    db_context=db_context['result'].strip()\n",
    "    return db_context\n",
    "\n",
    "def generate(query):\n",
    "    db_context=retrieve_from_db(query)\n",
    "    system_message=\"\"\"you are a movie database expert specializing in telugu cinema.\n",
    "    your task is to anser users' questions by providing relevant information from a database of Telugu movies.\n",
    "    The database contains the following information for each movie:\n",
    "    -Name of the movie\n",
    "    -Year fo release\n",
    "    -Certificate given by the censor board\n",
    "    -Movie genre\n",
    "    -A brief description or plot of the movie\n",
    "    -Duration in minutes\n",
    "    -IMDb Rating\n",
    "    -Number of people who rated the movie\n",
    "    \n",
    "    Example:\n",
    "    \n",
    "    Input:\n",
    "    Which Telugu movies released in 2021 have the highest IMDb ratings?\n",
    "    \n",
    "    Context:\n",
    "    The Telugu movies released in 2021 with the highest IMDb ratings are :\n",
    "    1. Movie A - EMDb rating: 8.5\n",
    "    2. Movie B - EMDb rating: 8.3\n",
    "    \n",
    "    Output:\n",
    "    The highest-rated Telugu movies released in 2021 are Movie A (IMDb Rating: 8.5) and Movie B(IMDb Rating: 8.3).\n",
    "    \"\"\"\n",
    "    human_qry_template=HumanMessagePromptTemplate.from_template(\n",
    "        \"\"\"Input:\n",
    "        {human_input}\n",
    "        Context:\n",
    "        {db_context}\n",
    "        Output:\n",
    "    \n",
    "        \"\"\"\n",
    "    )\n",
    "    messages=[\n",
    "        SystemMessage(content=system_message),\n",
    "        human_qry_template.format(human_input=query,db_context=db_context)\n",
    "    ]\n",
    "    response=llm(messages).content\n",
    "    return response\n",
    "generate(\"how many movies are there?\")"
   ]
  },
  {
   "cell_type": "code",
   "execution_count": 49,
   "id": "41df22ac-7916-4d12-a676-20ef62d3cb5b",
   "metadata": {},
   "outputs": [
    {
     "name": "stderr",
     "output_type": "stream",
     "text": [
      "Error in StdOutCallbackHandler.on_chain_start callback: AttributeError(\"'NoneType' object has no attribute 'get'\")\n"
     ]
    },
    {
     "name": "stdout",
     "output_type": "stream",
     "text": [
      "how many  movies have more that 2  rating\n",
      "SQLQuery:\u001b[32;1m\u001b[1;3mSELECT COUNT(`Movie`) AS `TotalMovies`\n",
      "FROM telugumovies_dataset\n",
      "WHERE `Rating` > 2\u001b[0m\n",
      "SQLResult: \u001b[33;1m\u001b[1;3m[(1340,)]\u001b[0m\n",
      "Answer:\u001b[32;1m\u001b[1;3mTotalMovies: 2\u001b[0m\n",
      "\u001b[1m> Finished chain.\u001b[0m\n"
     ]
    },
    {
     "data": {
      "text/plain": [
       "\"I'm sorry, but I need more information to provide an accurate answer. Can you please provide me with the list of movies along with their ratings so that I can determine how many movies have a rating of more than 2?\""
      ]
     },
     "execution_count": 49,
     "metadata": {},
     "output_type": "execute_result"
    }
   ],
   "source": [
    "generate('how many  movies have more that 2  rating')"
   ]
  },
  {
   "cell_type": "code",
   "execution_count": 51,
   "id": "cee1e02b-9ca3-434b-bd20-33a09d0b879f",
   "metadata": {},
   "outputs": [
    {
     "name": "stderr",
     "output_type": "stream",
     "text": [
      "Error in StdOutCallbackHandler.on_chain_start callback: AttributeError(\"'NoneType' object has no attribute 'get'\")\n"
     ]
    },
    {
     "name": "stdout",
     "output_type": "stream",
     "text": [
      "How many movies released after the year 2016\n",
      "SQLQuery:\u001b[32;1m\u001b[1;3mSELECT COUNT(`Movie`) \n",
      "FROM telugumovies_dataset\n",
      "WHERE `Year` > 2016;\u001b[0m\n",
      "SQLResult: \u001b[33;1m\u001b[1;3m[(267,)]\u001b[0m\n",
      "Answer:\u001b[32;1m\u001b[1;3mThere are 267 movies released after the year 2016.\u001b[0m\n",
      "\u001b[1m> Finished chain.\u001b[0m\n"
     ]
    },
    {
     "data": {
      "text/plain": [
       "'There are 267 movies released after the year 2016.'"
      ]
     },
     "execution_count": 51,
     "metadata": {},
     "output_type": "execute_result"
    }
   ],
   "source": [
    "generate('How many movies released after the year 2016')"
   ]
  },
  {
   "cell_type": "code",
   "execution_count": 53,
   "id": "51febdd2-c32c-43b6-8259-a52de8538e4c",
   "metadata": {},
   "outputs": [
    {
     "name": "stderr",
     "output_type": "stream",
     "text": [
      "Error in StdOutCallbackHandler.on_chain_start callback: AttributeError(\"'NoneType' object has no attribute 'get'\")\n"
     ]
    },
    {
     "name": "stdout",
     "output_type": "stream",
     "text": [
      "How many movies have more than the rating of 3\n",
      "SQLQuery:\u001b[32;1m\u001b[1;3mSELECT COUNT(*) \n",
      "FROM telugumovies_dataset \n",
      "WHERE `Rating` > 3\u001b[0m\n",
      "SQLResult: \u001b[33;1m\u001b[1;3m[(1327,)]\u001b[0m\n",
      "Answer:\u001b[32;1m\u001b[1;3mThere are 1327 movies that have a rating of more than 3.\u001b[0m\n",
      "\u001b[1m> Finished chain.\u001b[0m\n"
     ]
    },
    {
     "data": {
      "text/plain": [
       "'There are 1327 movies that have a rating of more than 3.'"
      ]
     },
     "execution_count": 53,
     "metadata": {},
     "output_type": "execute_result"
    }
   ],
   "source": [
    "generate('How many movies have more than the rating of 3')"
   ]
  },
  {
   "cell_type": "code",
   "execution_count": 55,
   "id": "577b94c8-d753-4a20-b6fb-d2be369cf3bf",
   "metadata": {},
   "outputs": [
    {
     "name": "stderr",
     "output_type": "stream",
     "text": [
      "Error in StdOutCallbackHandler.on_chain_start callback: AttributeError(\"'NoneType' object has no attribute 'get'\")\n"
     ]
    },
    {
     "name": "stdout",
     "output_type": "stream",
     "text": [
      "How many movies that have a rating of less than 3\n",
      "SQLQuery:\u001b[32;1m\u001b[1;3mSELECT COUNT(`Movie`) \n",
      "FROM telugumovies_dataset \n",
      "WHERE `Rating` < 3\n",
      "LIMIT 5;\u001b[0m\n",
      "SQLResult: \u001b[33;1m\u001b[1;3m[(21,)]\u001b[0m\n",
      "Answer:\u001b[32;1m\u001b[1;3mThere are 21 movies that have a rating of less than 3.\u001b[0m\n",
      "\u001b[1m> Finished chain.\u001b[0m\n"
     ]
    },
    {
     "data": {
      "text/plain": [
       "'There are 21 movies that have a rating of less than 3.'"
      ]
     },
     "execution_count": 55,
     "metadata": {},
     "output_type": "execute_result"
    }
   ],
   "source": [
    "generate('How many movies that have a rating of less than 3')"
   ]
  },
  {
   "cell_type": "code",
   "execution_count": 57,
   "id": "cb5aed90-8024-4751-9751-ab353836b893",
   "metadata": {},
   "outputs": [
    {
     "name": "stderr",
     "output_type": "stream",
     "text": [
      "Error in StdOutCallbackHandler.on_chain_start callback: AttributeError(\"'NoneType' object has no attribute 'get'\")\n"
     ]
    },
    {
     "name": "stdout",
     "output_type": "stream",
     "text": [
      "How many movies that have rating of 3\n",
      "SQLQuery:\u001b[32;1m\u001b[1;3mSELECT COUNT(*) \n",
      "FROM telugumovies_dataset \n",
      "WHERE `Rating` = 3\n",
      "LIMIT 5;\u001b[0m\n",
      "SQLResult: \u001b[33;1m\u001b[1;3m[(2,)]\u001b[0m\n",
      "Answer:\u001b[32;1m\u001b[1;3mThere are 0 movies that have a rating of 3.\u001b[0m\n",
      "\u001b[1m> Finished chain.\u001b[0m\n"
     ]
    },
    {
     "data": {
      "text/plain": [
       "'There are 0 movies that have a rating of 3.'"
      ]
     },
     "execution_count": 57,
     "metadata": {},
     "output_type": "execute_result"
    }
   ],
   "source": [
    "generate('How many movies that have rating of 3')"
   ]
  },
  {
   "cell_type": "code",
   "execution_count": 59,
   "id": "6ae48415-ba1c-43f8-9009-2851a96f9279",
   "metadata": {},
   "outputs": [
    {
     "name": "stderr",
     "output_type": "stream",
     "text": [
      "Error in StdOutCallbackHandler.on_chain_start callback: AttributeError(\"'NoneType' object has no attribute 'get'\")\n"
     ]
    },
    {
     "name": "stdout",
     "output_type": "stream",
     "text": [
      "Show me the record of  last index in the table\n",
      "SQLQuery:\u001b[32;1m\u001b[1;3mSELECT * \n",
      "FROM telugumovies_dataset\n",
      "ORDER BY MyUnknownColumn DESC\n",
      "LIMIT 1;\u001b[0m\n",
      "SQLResult: \u001b[33;1m\u001b[1;3m[(1399, '9 Nelalu', 2001.0, 'U', 'Drama            ', \"    Surendra marries Savitri, an orphan. In a turn of events, Surendra meets with an accident and needs money to undergo an operation. Will Savitri be able to raise funds to save her husband's life?\", 0, 7.3, 49)]\u001b[0m\n",
      "Answer:\u001b[32;1m\u001b[1;3mThe record of the last index in the table is:\n",
      "Movie: 9 Nelalu\n",
      "Year: 2001\n",
      "Certificate: U\n",
      "Genre: Drama\n",
      "Overview: Surendra marries Savitri, an orphan. In a turn of events, Surendra meets with an accident and needs money to undergo an operation. Will Savitri be able to raise funds to save her husband's life?\n",
      "Runtime: 0\n",
      "Rating: 7.3\n",
      "No.of.Ratings: 49\u001b[0m\n",
      "\u001b[1m> Finished chain.\u001b[0m\n"
     ]
    },
    {
     "data": {
      "text/plain": [
       "\"The record of the last index in the table is:\\nMovie: 9 Nelalu\\nYear: 2001\\nCertificate: U\\nGenre: Drama\\nOverview: Surendra marries Savitri, an orphan. In a turn of events, Surendra meets with an accident and needs money to undergo an operation. Will Savitri be able to raise funds to save her husband's life?\\nRuntime: 0 minutes\\nRating: 7.3\\nNo. of Ratings: 49\""
      ]
     },
     "execution_count": 59,
     "metadata": {},
     "output_type": "execute_result"
    }
   ],
   "source": [
    "generate('Show me the record of  last index in the table')"
   ]
  },
  {
   "cell_type": "code",
   "execution_count": 61,
   "id": "4a089043-e46d-4c66-b20c-20001d242539",
   "metadata": {},
   "outputs": [
    {
     "name": "stderr",
     "output_type": "stream",
     "text": [
      "Error in StdOutCallbackHandler.on_chain_start callback: AttributeError(\"'NoneType' object has no attribute 'get'\")\n"
     ]
    },
    {
     "name": "stdout",
     "output_type": "stream",
     "text": [
      "Is there a movie called  gabbarsingh\n",
      "SQLQuery:\u001b[32;1m\u001b[1;3mSELECT `Movie` \n",
      "FROM telugumovies_dataset \n",
      "WHERE `Movie` = 'gabbarsingh'\n",
      "LIMIT 1;\u001b[0m\n",
      "SQLResult: \u001b[33;1m\u001b[1;3m\u001b[0m\n",
      "Answer:\u001b[32;1m\u001b[1;3mNo, there is no movie called \"gabbarsingh\" in the dataset.\u001b[0m\n",
      "\u001b[1m> Finished chain.\u001b[0m\n"
     ]
    },
    {
     "data": {
      "text/plain": [
       "'No, there is no movie called \"Gabbarsingh\" in the dataset.'"
      ]
     },
     "execution_count": 61,
     "metadata": {},
     "output_type": "execute_result"
    }
   ],
   "source": [
    "generate('Is there a movie called  gabbarsingh')"
   ]
  },
  {
   "cell_type": "code",
   "execution_count": 63,
   "id": "3b91c757-36d5-4d39-99e5-82287bc47310",
   "metadata": {},
   "outputs": [
    {
     "name": "stderr",
     "output_type": "stream",
     "text": [
      "Error in StdOutCallbackHandler.on_chain_start callback: AttributeError(\"'NoneType' object has no attribute 'get'\")\n"
     ]
    },
    {
     "name": "stdout",
     "output_type": "stream",
     "text": [
      "is there a movie called saaho\n",
      "SQLQuery:\u001b[32;1m\u001b[1;3mSELECT `Movie` \n",
      "FROM telugumovies_dataset \n",
      "WHERE `Movie` = 'Saaho'\n",
      "LIMIT 1;\u001b[0m\n",
      "SQLResult: \u001b[33;1m\u001b[1;3m\u001b[0m\n",
      "Answer:\u001b[32;1m\u001b[1;3mNo, there is no movie called \"Saaho\" in the dataset.\u001b[0m\n",
      "\u001b[1m> Finished chain.\u001b[0m\n"
     ]
    },
    {
     "data": {
      "text/plain": [
       "'No, there is no movie called \"Saaho\" in the dataset.'"
      ]
     },
     "execution_count": 63,
     "metadata": {},
     "output_type": "execute_result"
    }
   ],
   "source": [
    "generate('is there a movie called saaho')"
   ]
  },
  {
   "cell_type": "code",
   "execution_count": 65,
   "id": "817cc4c7-1c9c-436a-a983-01eb8a454d02",
   "metadata": {},
   "outputs": [
    {
     "name": "stderr",
     "output_type": "stream",
     "text": [
      "Error in StdOutCallbackHandler.on_chain_start callback: AttributeError(\"'NoneType' object has no attribute 'get'\")\n"
     ]
    },
    {
     "name": "stdout",
     "output_type": "stream",
     "text": [
      "is there a movie called bahubali\n",
      "SQLQuery:\u001b[32;1m\u001b[1;3mSELECT `Movie` FROM telugumovies_dataset WHERE `Movie` LIKE '%bahubali%' LIMIT 5;\u001b[0m\n",
      "SQLResult: \u001b[33;1m\u001b[1;3m[('Bahubali: The Beginning',)]\u001b[0m\n",
      "Answer:\u001b[32;1m\u001b[1;3mYes, there is a movie called \"Bahubali: The Beginning\".\u001b[0m\n",
      "\u001b[1m> Finished chain.\u001b[0m\n"
     ]
    },
    {
     "data": {
      "text/plain": [
       "'Yes, there is a movie called \"Bahubali: The Beginning\".'"
      ]
     },
     "execution_count": 65,
     "metadata": {},
     "output_type": "execute_result"
    }
   ],
   "source": [
    "generate('is there a movie called bahubali')"
   ]
  },
  {
   "cell_type": "code",
   "execution_count": 67,
   "id": "a0b7fb13-65d3-4031-83b5-0dc89153f4ca",
   "metadata": {},
   "outputs": [
    {
     "name": "stderr",
     "output_type": "stream",
     "text": [
      "Error in StdOutCallbackHandler.on_chain_start callback: AttributeError(\"'NoneType' object has no attribute 'get'\")\n"
     ]
    },
    {
     "name": "stdout",
     "output_type": "stream",
     "text": [
      "what is the  julayi movie ratings \n",
      "SQLQuery:\u001b[32;1m\u001b[1;3mSELECT `Rating`, `No.of.Ratings` \n",
      "FROM telugumovies_dataset \n",
      "WHERE `Movie` = 'Julayi'\n",
      "LIMIT 1;\u001b[0m\n",
      "SQLResult: \u001b[33;1m\u001b[1;3m[(7.2, 4329)]\u001b[0m\n",
      "Answer:\u001b[32;1m\u001b[1;3mThe movie \"Julayi\" has a rating of 7.2 with 4329 number of ratings.\u001b[0m\n",
      "\u001b[1m> Finished chain.\u001b[0m\n"
     ]
    },
    {
     "data": {
      "text/plain": [
       "'The movie \"Julayi\" has an IMDb rating of 7.2 with 4329 number of ratings.'"
      ]
     },
     "execution_count": 67,
     "metadata": {},
     "output_type": "execute_result"
    }
   ],
   "source": [
    "generate('what is the  julayi movie ratings ')"
   ]
  },
  {
   "cell_type": "code",
   "execution_count": 69,
   "id": "2d01d2a8-d5b5-4e8b-9f20-9ea08c596157",
   "metadata": {},
   "outputs": [
    {
     "name": "stderr",
     "output_type": "stream",
     "text": [
      "Error in StdOutCallbackHandler.on_chain_start callback: AttributeError(\"'NoneType' object has no attribute 'get'\")\n"
     ]
    },
    {
     "name": "stdout",
     "output_type": "stream",
     "text": [
      "what is the summary of the bahubali\n",
      "SQLQuery:\u001b[32;1m\u001b[1;3mSELECT `Overview` FROM telugumovies_dataset WHERE `Movie` = 'Bahubali: The Beginning' LIMIT 1;\u001b[0m\n",
      "SQLResult: \u001b[33;1m\u001b[1;3m[('    In ancient India, an adventurous and daring man becomes involved in a decades old feud between two warring people.',)]\u001b[0m\n",
      "Answer:\u001b[32;1m\u001b[1;3mThe summary of the movie \"Bahubali: The Beginning\" is: \"In ancient India, an adventurous and daring man becomes involved in a decades old feud between two warring people.\"\u001b[0m\n",
      "\u001b[1m> Finished chain.\u001b[0m\n"
     ]
    },
    {
     "data": {
      "text/plain": [
       "'The summary of the movie \"Bahubali: The Beginning\" is: \"In ancient India, an adventurous and daring man becomes involved in a decades old feud between two warring people.\"'"
      ]
     },
     "execution_count": 69,
     "metadata": {},
     "output_type": "execute_result"
    }
   ],
   "source": [
    "generate(\"what is the summary of the bahubali\")"
   ]
  },
  {
   "cell_type": "code",
   "execution_count": 73,
   "id": "5615ce0a-0243-4827-89f3-d782039cf79b",
   "metadata": {},
   "outputs": [
    {
     "name": "stderr",
     "output_type": "stream",
     "text": [
      "Error in StdOutCallbackHandler.on_chain_start callback: AttributeError(\"'NoneType' object has no attribute 'get'\")\n"
     ]
    },
    {
     "name": "stdout",
     "output_type": "stream",
     "text": [
      "how many movies with UA ratings give me the count\n",
      "SQLQuery:\u001b[32;1m\u001b[1;3mSELECT COUNT(`Movie`) AS `Count`\n",
      "FROM telugumovies_dataset\n",
      "WHERE `Certificate` = 'UA'\u001b[0m\n",
      "SQLResult: \u001b[33;1m\u001b[1;3m[(316,)]\u001b[0m\n",
      "Answer:\u001b[32;1m\u001b[1;3mThere are 316 movies with UA ratings.\u001b[0m\n",
      "\u001b[1m> Finished chain.\u001b[0m\n"
     ]
    },
    {
     "data": {
      "text/plain": [
       "'There are 316 movies with UA ratings.'"
      ]
     },
     "execution_count": 73,
     "metadata": {},
     "output_type": "execute_result"
    }
   ],
   "source": [
    "generate('how many movies with UA ratings give me the count')"
   ]
  },
  {
   "cell_type": "code",
   "execution_count": 75,
   "id": "0a74bdbc-efaa-40ce-bd40-50558a722deb",
   "metadata": {},
   "outputs": [
    {
     "name": "stderr",
     "output_type": "stream",
     "text": [
      "Error in StdOutCallbackHandler.on_chain_start callback: AttributeError(\"'NoneType' object has no attribute 'get'\")\n"
     ]
    },
    {
     "name": "stdout",
     "output_type": "stream",
     "text": [
      "runtime of bahubali\n",
      "SQLQuery:\u001b[32;1m\u001b[1;3mSELECT `Runtime` \n",
      "FROM telugumovies_dataset \n",
      "WHERE `Movie` = 'Bahubali: The Beginning'\n",
      "LIMIT 1;\u001b[0m\n",
      "SQLResult: \u001b[33;1m\u001b[1;3m[(159,)]\u001b[0m\n",
      "Answer:\u001b[32;1m\u001b[1;3mThe runtime of Bahubali: The Beginning is 159 minutes.\u001b[0m\n",
      "\u001b[1m> Finished chain.\u001b[0m\n"
     ]
    },
    {
     "data": {
      "text/plain": [
       "'The runtime of Bahubali: The Beginning is 159 minutes.'"
      ]
     },
     "execution_count": 75,
     "metadata": {},
     "output_type": "execute_result"
    }
   ],
   "source": [
    "generate('runtime of bahubali')"
   ]
  },
  {
   "cell_type": "code",
   "execution_count": null,
   "id": "5d75332a-8be8-4a2a-a233-67bd202a4912",
   "metadata": {},
   "outputs": [],
   "source": []
  }
 ],
 "metadata": {
  "kernelspec": {
   "display_name": "Python 3 (ipykernel)",
   "language": "python",
   "name": "python3"
  },
  "language_info": {
   "codemirror_mode": {
    "name": "ipython",
    "version": 3
   },
   "file_extension": ".py",
   "mimetype": "text/x-python",
   "name": "python",
   "nbconvert_exporter": "python",
   "pygments_lexer": "ipython3",
   "version": "3.12.4"
  }
 },
 "nbformat": 4,
 "nbformat_minor": 5
}
